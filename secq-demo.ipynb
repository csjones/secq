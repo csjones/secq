{
 "cells": [
  {
   "cell_type": "code",
   "execution_count": 1,
   "metadata": {},
   "outputs": [
    {
     "name": "stdout",
     "output_type": "stream",
     "text": [
      "S256PPoint(79be667ef9dcbbac55a06295ce870b07029bfcdb2dce28d959f2815b16f81798,483ada7726a3c4655da4fbfc0e1108a8fd17b448a68554199c47d08ffb10d4b8)_fffffffffffffffffffffffffffffffffffffffffffffffffffffffefffffc2f\n",
      "S256PPoint(infinity)\n",
      "True\n",
      "S256QPoint(76c39f5585cb160eb6b06c87a2ce32e23134e45a097781a6a24288e37702eda6,3ffc646c7b2918b5dc2d265a8e82a7f7d18983d26e8dc055a4120ddad952677f)_fffffffffffffffffffffffffffffffebaaedce6af48a03bbfd25e8cd0364141\n",
      "S256QPoint(infinity)\n",
      "True\n"
     ]
    }
   ],
   "source": [
    "from ecc import G, G2, N, P\n",
    "\n",
    "# G is the generator for the secp256k1 curve\n",
    "print(G)\n",
    "\n",
    "# order of G is N\n",
    "print(N*G)\n",
    "\n",
    "# y^2 = x^3 + 7 holds for the prime field of P for G\n",
    "print(G.y.num**2 % P == (G.x.num**3 + 7) % P)\n",
    "\n",
    "# G2 is the generator for the secq256k1 curve (so-called \"mirror\" curve)\n",
    "print(G2)\n",
    "\n",
    "# order of G2 is P\n",
    "print(P*G2)\n",
    "\n",
    "# y^2 = x^3 + 7 holds for the prime field of N for G2\n",
    "print(G2.y.num**2 % N == (G2.x.num**3 + 7) % N)"
   ]
  }
 ],
 "metadata": {
  "kernelspec": {
   "display_name": "Python 3",
   "language": "python",
   "name": "python3"
  },
  "language_info": {
   "codemirror_mode": {
    "name": "ipython",
    "version": 3
   },
   "file_extension": ".py",
   "mimetype": "text/x-python",
   "name": "python",
   "nbconvert_exporter": "python",
   "pygments_lexer": "ipython3",
   "version": "3.5.2"
  }
 },
 "nbformat": 4,
 "nbformat_minor": 2
}
